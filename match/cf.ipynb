{
 "cells": [
  {
   "cell_type": "code",
   "execution_count": 413,
   "metadata": {},
   "outputs": [],
   "source": [
    "import pandas as pd\n",
    "from sklearn.preprocessing import MultiLabelBinarizer"
   ]
  },
  {
   "cell_type": "code",
   "execution_count": null,
   "metadata": {},
   "outputs": [],
   "source": []
  },
  {
   "cell_type": "code",
   "execution_count": 415,
   "metadata": {},
   "outputs": [
    {
     "data": {
      "text/html": [
       "<div>\n",
       "<style scoped>\n",
       "    .dataframe tbody tr th:only-of-type {\n",
       "        vertical-align: middle;\n",
       "    }\n",
       "\n",
       "    .dataframe tbody tr th {\n",
       "        vertical-align: top;\n",
       "    }\n",
       "\n",
       "    .dataframe thead th {\n",
       "        text-align: right;\n",
       "    }\n",
       "</style>\n",
       "<table border=\"1\" class=\"dataframe\">\n",
       "  <thead>\n",
       "    <tr style=\"text-align: right;\">\n",
       "      <th></th>\n",
       "      <th>Name</th>\n",
       "      <th>Email</th>\n",
       "      <th>Phone Number</th>\n",
       "      <th>Canceled</th>\n",
       "      <th>Notes</th>\n",
       "      <th>VIP</th>\n",
       "      <th>Station</th>\n",
       "      <th>Day</th>\n",
       "      <th>EVENT LOCATION</th>\n",
       "      <th>Employer</th>\n",
       "      <th>Title, Industry</th>\n",
       "      <th>City, State</th>\n",
       "      <th>Career Fields</th>\n",
       "    </tr>\n",
       "  </thead>\n",
       "  <tbody>\n",
       "    <tr>\n",
       "      <th>0</th>\n",
       "      <td>Jiaxian Cai</td>\n",
       "      <td>NaN</td>\n",
       "      <td>NaN</td>\n",
       "      <td>False</td>\n",
       "      <td>NaN</td>\n",
       "      <td>False</td>\n",
       "      <td>Station 1</td>\n",
       "      <td>Wednesday</td>\n",
       "      <td>SJSU</td>\n",
       "      <td>Accenture</td>\n",
       "      <td>Application Support Analyst</td>\n",
       "      <td>Mountain View,CA</td>\n",
       "      <td>NaN</td>\n",
       "    </tr>\n",
       "    <tr>\n",
       "      <th>1</th>\n",
       "      <td>Kevin Orlando Rodezno Polanco</td>\n",
       "      <td>NaN</td>\n",
       "      <td>NaN</td>\n",
       "      <td>False</td>\n",
       "      <td>NaN</td>\n",
       "      <td>False</td>\n",
       "      <td>Station 1</td>\n",
       "      <td>Wednesday</td>\n",
       "      <td>PayPal</td>\n",
       "      <td>Accenture</td>\n",
       "      <td>Management Consulting Senior Analyst</td>\n",
       "      <td>NaN</td>\n",
       "      <td>Business; Technology; Management;</td>\n",
       "    </tr>\n",
       "  </tbody>\n",
       "</table>\n",
       "</div>"
      ],
      "text/plain": [
       "                            Name  Email  Phone Number Canceled  Notes    VIP  \\\n",
       "0                    Jiaxian Cai    NaN           NaN    False    NaN  False   \n",
       "1  Kevin Orlando Rodezno Polanco    NaN           NaN    False    NaN  False   \n",
       "\n",
       "     Station        Day EVENT LOCATION    Employer  \\\n",
       "0  Station 1  Wednesday            SJSU  Accenture   \n",
       "1  Station 1  Wednesday          PayPal  Accenture   \n",
       "\n",
       "                        Title, Industry       City, State  \\\n",
       "0           Application Support Analyst  Mountain View,CA   \n",
       "1  Management Consulting Senior Analyst               NaN   \n",
       "\n",
       "                       Career Fields  \n",
       "0                                NaN  \n",
       "1  Business; Technology; Management;  "
      ]
     },
     "execution_count": 415,
     "metadata": {},
     "output_type": "execute_result"
    }
   ],
   "source": [
    "df_v = pd.read_csv('data/volunteer.csv')\n",
    "df_v.head(2)"
   ]
  },
  {
   "cell_type": "code",
   "execution_count": 416,
   "metadata": {},
   "outputs": [
    {
     "data": {
      "text/html": [
       "<div>\n",
       "<style scoped>\n",
       "    .dataframe tbody tr th:only-of-type {\n",
       "        vertical-align: middle;\n",
       "    }\n",
       "\n",
       "    .dataframe tbody tr th {\n",
       "        vertical-align: top;\n",
       "    }\n",
       "\n",
       "    .dataframe thead th {\n",
       "        text-align: right;\n",
       "    }\n",
       "</style>\n",
       "<table border=\"1\" class=\"dataframe\">\n",
       "  <thead>\n",
       "    <tr style=\"text-align: right;\">\n",
       "      <th></th>\n",
       "      <th>Full Name</th>\n",
       "      <th>Student ID</th>\n",
       "      <th>First</th>\n",
       "      <th>Last</th>\n",
       "      <th>Cohort</th>\n",
       "      <th>Evening</th>\n",
       "      <th>Location</th>\n",
       "      <th>Phone Number</th>\n",
       "      <th>Email</th>\n",
       "      <th>Career Interests for Matching</th>\n",
       "      <th>Attendance</th>\n",
       "      <th>Module Score</th>\n",
       "      <th>Project Score</th>\n",
       "      <th>Bonus</th>\n",
       "      <th>Total Score</th>\n",
       "    </tr>\n",
       "  </thead>\n",
       "  <tbody>\n",
       "    <tr>\n",
       "      <th>0</th>\n",
       "      <td>Adam Ababneh</td>\n",
       "      <td>NaN</td>\n",
       "      <td>Adam</td>\n",
       "      <td>Ababneh</td>\n",
       "      <td>SJSU Karin (Tu)</td>\n",
       "      <td>Tuesday</td>\n",
       "      <td>SJSU</td>\n",
       "      <td>NaN</td>\n",
       "      <td>NaN</td>\n",
       "      <td>Business;</td>\n",
       "      <td>0.857143</td>\n",
       "      <td>0.815836</td>\n",
       "      <td>0.833333</td>\n",
       "      <td>NaN</td>\n",
       "      <td>251.0</td>\n",
       "    </tr>\n",
       "    <tr>\n",
       "      <th>1</th>\n",
       "      <td>Akhil Modali</td>\n",
       "      <td>NaN</td>\n",
       "      <td>Akhil</td>\n",
       "      <td>Modali</td>\n",
       "      <td>SJSU Allie (Tu)</td>\n",
       "      <td>Tuesday</td>\n",
       "      <td>SJSU</td>\n",
       "      <td>NaN</td>\n",
       "      <td>NaN</td>\n",
       "      <td>Public Relations; Education;</td>\n",
       "      <td>1.000000</td>\n",
       "      <td>0.918337</td>\n",
       "      <td>0.916667</td>\n",
       "      <td>NaN</td>\n",
       "      <td>284.0</td>\n",
       "    </tr>\n",
       "  </tbody>\n",
       "</table>\n",
       "</div>"
      ],
      "text/plain": [
       "      Full Name  Student ID First      Last           Cohort  Evening  \\\n",
       "0  Adam Ababneh         NaN   Adam  Ababneh  SJSU Karin (Tu)  Tuesday   \n",
       "1  Akhil Modali         NaN  Akhil   Modali  SJSU Allie (Tu)  Tuesday   \n",
       "\n",
       "  Location  Phone Number  Email Career Interests for Matching  Attendance  \\\n",
       "0     SJSU           NaN    NaN                     Business;    0.857143   \n",
       "1     SJSU           NaN    NaN  Public Relations; Education;    1.000000   \n",
       "\n",
       "   Module Score  Project Score  Bonus  Total Score  \n",
       "0      0.815836       0.833333    NaN        251.0  \n",
       "1      0.918337       0.916667    NaN        284.0  "
      ]
     },
     "execution_count": 416,
     "metadata": {},
     "output_type": "execute_result"
    }
   ],
   "source": [
    "df_s = pd.read_csv('data/student.csv')\n",
    "df_s.head(2)"
   ]
  },
  {
   "cell_type": "code",
   "execution_count": 417,
   "metadata": {},
   "outputs": [
    {
     "name": "stderr",
     "output_type": "stream",
     "text": [
      "/Users/nasrajan/anaconda3/lib/python3.7/site-packages/ipykernel_launcher.py:2: SettingWithCopyWarning: \n",
      "A value is trying to be set on a copy of a slice from a DataFrame.\n",
      "Try using .loc[row_indexer,col_indexer] = value instead\n",
      "\n",
      "See the caveats in the documentation: http://pandas.pydata.org/pandas-docs/stable/indexing.html#indexing-view-versus-copy\n",
      "  \n"
     ]
    },
    {
     "data": {
      "text/html": [
       "<div>\n",
       "<style scoped>\n",
       "    .dataframe tbody tr th:only-of-type {\n",
       "        vertical-align: middle;\n",
       "    }\n",
       "\n",
       "    .dataframe tbody tr th {\n",
       "        vertical-align: top;\n",
       "    }\n",
       "\n",
       "    .dataframe thead th {\n",
       "        text-align: right;\n",
       "    }\n",
       "</style>\n",
       "<table border=\"1\" class=\"dataframe\">\n",
       "  <thead>\n",
       "    <tr style=\"text-align: right;\">\n",
       "      <th></th>\n",
       "      <th>Full Name</th>\n",
       "      <th>Career Interests for Matching</th>\n",
       "    </tr>\n",
       "  </thead>\n",
       "  <tbody>\n",
       "    <tr>\n",
       "      <th>0</th>\n",
       "      <td>Adam Ababneh</td>\n",
       "      <td>Business;</td>\n",
       "    </tr>\n",
       "    <tr>\n",
       "      <th>1</th>\n",
       "      <td>Akhil Modali</td>\n",
       "      <td>Public Relations; Education;</td>\n",
       "    </tr>\n",
       "  </tbody>\n",
       "</table>\n",
       "</div>"
      ],
      "text/plain": [
       "      Full Name Career Interests for Matching\n",
       "0  Adam Ababneh                     Business;\n",
       "1  Akhil Modali  Public Relations; Education;"
      ]
     },
     "execution_count": 417,
     "metadata": {},
     "output_type": "execute_result"
    }
   ],
   "source": [
    "df_user = df_s[['Full Name', 'Career Interests for Matching']]\n",
    "df_user[\"Career Interests for Matching\"] = df_user[\"Career Interests for Matching\"].fillna(\"Behavioral;\")\n",
    "df_user.head(2)"
   ]
  },
  {
   "cell_type": "code",
   "execution_count": 418,
   "metadata": {},
   "outputs": [
    {
     "name": "stderr",
     "output_type": "stream",
     "text": [
      "/Users/nasrajan/anaconda3/lib/python3.7/site-packages/ipykernel_launcher.py:12: SettingWithCopyWarning: \n",
      "A value is trying to be set on a copy of a slice from a DataFrame.\n",
      "Try using .loc[row_indexer,col_indexer] = value instead\n",
      "\n",
      "See the caveats in the documentation: http://pandas.pydata.org/pandas-docs/stable/indexing.html#indexing-view-versus-copy\n",
      "  if sys.path[0] == '':\n"
     ]
    },
    {
     "data": {
      "text/html": [
       "<div>\n",
       "<style scoped>\n",
       "    .dataframe tbody tr th:only-of-type {\n",
       "        vertical-align: middle;\n",
       "    }\n",
       "\n",
       "    .dataframe tbody tr th {\n",
       "        vertical-align: top;\n",
       "    }\n",
       "\n",
       "    .dataframe thead th {\n",
       "        text-align: right;\n",
       "    }\n",
       "</style>\n",
       "<table border=\"1\" class=\"dataframe\">\n",
       "  <thead>\n",
       "    <tr style=\"text-align: right;\">\n",
       "      <th></th>\n",
       "      <th>Full Name</th>\n",
       "      <th>Career Interests for Matching</th>\n",
       "      <th>interests</th>\n",
       "    </tr>\n",
       "  </thead>\n",
       "  <tbody>\n",
       "    <tr>\n",
       "      <th>0</th>\n",
       "      <td>Adam Ababneh</td>\n",
       "      <td>Business;</td>\n",
       "      <td>[Business]</td>\n",
       "    </tr>\n",
       "    <tr>\n",
       "      <th>1</th>\n",
       "      <td>Akhil Modali</td>\n",
       "      <td>Public Relations; Education;</td>\n",
       "      <td>[Public Relations, Education]</td>\n",
       "    </tr>\n",
       "  </tbody>\n",
       "</table>\n",
       "</div>"
      ],
      "text/plain": [
       "      Full Name Career Interests for Matching                      interests\n",
       "0  Adam Ababneh                     Business;                     [Business]\n",
       "1  Akhil Modali  Public Relations; Education;  [Public Relations, Education]"
      ]
     },
     "execution_count": 418,
     "metadata": {},
     "output_type": "execute_result"
    }
   ],
   "source": [
    "def removenulls(value):\n",
    "    if value:\n",
    "        return True\n",
    "    else:\n",
    "        return False\n",
    "    \n",
    "skills = df_user[\"Career Interests for Matching\"].str.split(\";\").apply(lambda x: list(filter(removenulls, x)))\n",
    "                                                \n",
    "skills = skills.apply(lambda x: list(map(str.lstrip, x)) ) \n",
    "skills_list = [st.lstrip().rstrip() for row in skills for st in row]\n",
    "\n",
    "df_user[\"interests\"] = skills\n",
    "\n",
    "df_user.head(2)"
   ]
  },
  {
   "cell_type": "code",
   "execution_count": null,
   "metadata": {},
   "outputs": [],
   "source": []
  },
  {
   "cell_type": "code",
   "execution_count": null,
   "metadata": {},
   "outputs": [],
   "source": []
  },
  {
   "cell_type": "code",
   "execution_count": 419,
   "metadata": {},
   "outputs": [],
   "source": [
    "#df_user = df_user.assign(**pd.get_dummies(df_user.interests.apply(lambda x:pd.Series(x)).stack().reset_index(level=1,drop=True)).sum(level=0))\n",
    "mlb = MultiLabelBinarizer()\n",
    "df_user = df_user.join(pd.DataFrame(mlb.fit_transform(df_user.pop('interests')),\n",
    "                       columns=mlb.classes_,\n",
    "                          index=df_user.index))\n",
    "\n",
    "df_user_profile = df_user.drop(columns=[\"Career Interests for Matching\"])\n",
    "\n"
   ]
  },
  {
   "cell_type": "code",
   "execution_count": null,
   "metadata": {},
   "outputs": [],
   "source": []
  },
  {
   "cell_type": "code",
   "execution_count": 420,
   "metadata": {},
   "outputs": [
    {
     "data": {
      "text/plain": [
       "(127, 2)"
      ]
     },
     "execution_count": 420,
     "metadata": {},
     "output_type": "execute_result"
    }
   ],
   "source": [
    "df_v = df_v[['Name', 'Career Fields']]\n",
    "df_v[\"Career Fields\"] = df_v[\"Career Fields\"].fillna(\"Behavioral;\")\n",
    "df_v.shape"
   ]
  },
  {
   "cell_type": "code",
   "execution_count": 385,
   "metadata": {},
   "outputs": [
    {
     "data": {
      "text/html": [
       "<div>\n",
       "<style scoped>\n",
       "    .dataframe tbody tr th:only-of-type {\n",
       "        vertical-align: middle;\n",
       "    }\n",
       "\n",
       "    .dataframe tbody tr th {\n",
       "        vertical-align: top;\n",
       "    }\n",
       "\n",
       "    .dataframe thead th {\n",
       "        text-align: right;\n",
       "    }\n",
       "</style>\n",
       "<table border=\"1\" class=\"dataframe\">\n",
       "  <thead>\n",
       "    <tr style=\"text-align: right;\">\n",
       "      <th></th>\n",
       "      <th>Name</th>\n",
       "      <th>Career Fields</th>\n",
       "      <th>interests</th>\n",
       "    </tr>\n",
       "  </thead>\n",
       "  <tbody>\n",
       "    <tr>\n",
       "      <th>0</th>\n",
       "      <td>Jiaxian Cai</td>\n",
       "      <td>Behavioral;</td>\n",
       "      <td>[Business]</td>\n",
       "    </tr>\n",
       "    <tr>\n",
       "      <th>1</th>\n",
       "      <td>Kevin Orlando Rodezno Polanco</td>\n",
       "      <td>Business; Technology; Management;</td>\n",
       "      <td>[Public Relations, Education]</td>\n",
       "    </tr>\n",
       "    <tr>\n",
       "      <th>2</th>\n",
       "      <td>Allison Meyers</td>\n",
       "      <td>Business; Management;</td>\n",
       "      <td>[Human Resources]</td>\n",
       "    </tr>\n",
       "    <tr>\n",
       "      <th>3</th>\n",
       "      <td>Suzette Sandoval</td>\n",
       "      <td>Human Resources; Recruiting;</td>\n",
       "      <td>[Behavioral]</td>\n",
       "    </tr>\n",
       "    <tr>\n",
       "      <th>4</th>\n",
       "      <td>Dionne Gayle</td>\n",
       "      <td>Business;</td>\n",
       "      <td>[Behavioral]</td>\n",
       "    </tr>\n",
       "  </tbody>\n",
       "</table>\n",
       "</div>"
      ],
      "text/plain": [
       "                            Name                      Career Fields  \\\n",
       "0                    Jiaxian Cai                        Behavioral;   \n",
       "1  Kevin Orlando Rodezno Polanco  Business; Technology; Management;   \n",
       "2                 Allison Meyers              Business; Management;   \n",
       "3              Suzette Sandoval        Human Resources; Recruiting;   \n",
       "4                   Dionne Gayle                          Business;   \n",
       "\n",
       "                       interests  \n",
       "0                     [Business]  \n",
       "1  [Public Relations, Education]  \n",
       "2              [Human Resources]  \n",
       "3                   [Behavioral]  \n",
       "4                   [Behavioral]  "
      ]
     },
     "execution_count": 385,
     "metadata": {},
     "output_type": "execute_result"
    }
   ],
   "source": [
    "skills = df_user[\"Career Interests for Matching\"].str.split(\";\").apply(lambda x: list(filter(removenulls, x)))\n",
    "                                                \n",
    "skills = skills.apply(lambda x: list(map(str.lstrip, x)) ) \n",
    "\n",
    "skills_list = [st.lstrip().rstrip() for row in skills for st in row]\n",
    "df_v[\"interests\"] = skills\n",
    "df_v.head()"
   ]
  },
  {
   "cell_type": "code",
   "execution_count": 386,
   "metadata": {},
   "outputs": [],
   "source": [
    "df_v = df_v.join(pd.DataFrame(mlb.fit_transform(df_v.pop('interests')),\n",
    "                       columns=mlb.classes_,\n",
    "                          index=df_v.index))\n",
    "\n",
    "df_volunteer_profile = df_v.drop(columns=[\"Career Fields\"])\n"
   ]
  },
  {
   "cell_type": "code",
   "execution_count": 387,
   "metadata": {},
   "outputs": [
    {
     "data": {
      "text/plain": [
       "(16,)"
      ]
     },
     "execution_count": 387,
     "metadata": {},
     "output_type": "execute_result"
    }
   ],
   "source": [
    "df_volunteer_profile.columns.shape\n"
   ]
  },
  {
   "cell_type": "code",
   "execution_count": 412,
   "metadata": {},
   "outputs": [
    {
     "ename": "KeyError",
     "evalue": "\"['Advertising' 'Human Relations' 'Public Rleations'] not found in axis\"",
     "output_type": "error",
     "traceback": [
      "\u001b[0;31m---------------------------------------------------------------------------\u001b[0m",
      "\u001b[0;31mKeyError\u001b[0m                                  Traceback (most recent call last)",
      "\u001b[0;32m<ipython-input-412-d59a0cad57e0>\u001b[0m in \u001b[0;36m<module>\u001b[0;34m\u001b[0m\n\u001b[0;32m----> 1\u001b[0;31m \u001b[0mdf_user_profile\u001b[0m \u001b[0;34m=\u001b[0m \u001b[0mdf_user_profile\u001b[0m\u001b[0;34m.\u001b[0m\u001b[0mdrop\u001b[0m\u001b[0;34m(\u001b[0m\u001b[0mcolumns\u001b[0m\u001b[0;34m=\u001b[0m\u001b[0;34m[\u001b[0m\u001b[0;34m\"Advertising\"\u001b[0m\u001b[0;34m,\u001b[0m \u001b[0;34m\"Human Relations\"\u001b[0m\u001b[0;34m,\u001b[0m \u001b[0;34m\"Public Rleations\"\u001b[0m\u001b[0;34m]\u001b[0m\u001b[0;34m)\u001b[0m\u001b[0;34m\u001b[0m\u001b[0;34m\u001b[0m\u001b[0m\n\u001b[0m",
      "\u001b[0;32m~/anaconda3/lib/python3.7/site-packages/pandas/core/frame.py\u001b[0m in \u001b[0;36mdrop\u001b[0;34m(self, labels, axis, index, columns, level, inplace, errors)\u001b[0m\n\u001b[1;32m   3938\u001b[0m                                            \u001b[0mindex\u001b[0m\u001b[0;34m=\u001b[0m\u001b[0mindex\u001b[0m\u001b[0;34m,\u001b[0m \u001b[0mcolumns\u001b[0m\u001b[0;34m=\u001b[0m\u001b[0mcolumns\u001b[0m\u001b[0;34m,\u001b[0m\u001b[0;34m\u001b[0m\u001b[0;34m\u001b[0m\u001b[0m\n\u001b[1;32m   3939\u001b[0m                                            \u001b[0mlevel\u001b[0m\u001b[0;34m=\u001b[0m\u001b[0mlevel\u001b[0m\u001b[0;34m,\u001b[0m \u001b[0minplace\u001b[0m\u001b[0;34m=\u001b[0m\u001b[0minplace\u001b[0m\u001b[0;34m,\u001b[0m\u001b[0;34m\u001b[0m\u001b[0;34m\u001b[0m\u001b[0m\n\u001b[0;32m-> 3940\u001b[0;31m                                            errors=errors)\n\u001b[0m\u001b[1;32m   3941\u001b[0m \u001b[0;34m\u001b[0m\u001b[0m\n\u001b[1;32m   3942\u001b[0m     @rewrite_axis_style_signature('mapper', [('copy', True),\n",
      "\u001b[0;32m~/anaconda3/lib/python3.7/site-packages/pandas/core/generic.py\u001b[0m in \u001b[0;36mdrop\u001b[0;34m(self, labels, axis, index, columns, level, inplace, errors)\u001b[0m\n\u001b[1;32m   3778\u001b[0m         \u001b[0;32mfor\u001b[0m \u001b[0maxis\u001b[0m\u001b[0;34m,\u001b[0m \u001b[0mlabels\u001b[0m \u001b[0;32min\u001b[0m \u001b[0maxes\u001b[0m\u001b[0;34m.\u001b[0m\u001b[0mitems\u001b[0m\u001b[0;34m(\u001b[0m\u001b[0;34m)\u001b[0m\u001b[0;34m:\u001b[0m\u001b[0;34m\u001b[0m\u001b[0;34m\u001b[0m\u001b[0m\n\u001b[1;32m   3779\u001b[0m             \u001b[0;32mif\u001b[0m \u001b[0mlabels\u001b[0m \u001b[0;32mis\u001b[0m \u001b[0;32mnot\u001b[0m \u001b[0;32mNone\u001b[0m\u001b[0;34m:\u001b[0m\u001b[0;34m\u001b[0m\u001b[0;34m\u001b[0m\u001b[0m\n\u001b[0;32m-> 3780\u001b[0;31m                 \u001b[0mobj\u001b[0m \u001b[0;34m=\u001b[0m \u001b[0mobj\u001b[0m\u001b[0;34m.\u001b[0m\u001b[0m_drop_axis\u001b[0m\u001b[0;34m(\u001b[0m\u001b[0mlabels\u001b[0m\u001b[0;34m,\u001b[0m \u001b[0maxis\u001b[0m\u001b[0;34m,\u001b[0m \u001b[0mlevel\u001b[0m\u001b[0;34m=\u001b[0m\u001b[0mlevel\u001b[0m\u001b[0;34m,\u001b[0m \u001b[0merrors\u001b[0m\u001b[0;34m=\u001b[0m\u001b[0merrors\u001b[0m\u001b[0;34m)\u001b[0m\u001b[0;34m\u001b[0m\u001b[0;34m\u001b[0m\u001b[0m\n\u001b[0m\u001b[1;32m   3781\u001b[0m \u001b[0;34m\u001b[0m\u001b[0m\n\u001b[1;32m   3782\u001b[0m         \u001b[0;32mif\u001b[0m \u001b[0minplace\u001b[0m\u001b[0;34m:\u001b[0m\u001b[0;34m\u001b[0m\u001b[0;34m\u001b[0m\u001b[0m\n",
      "\u001b[0;32m~/anaconda3/lib/python3.7/site-packages/pandas/core/generic.py\u001b[0m in \u001b[0;36m_drop_axis\u001b[0;34m(self, labels, axis, level, errors)\u001b[0m\n\u001b[1;32m   3810\u001b[0m                 \u001b[0mnew_axis\u001b[0m \u001b[0;34m=\u001b[0m \u001b[0maxis\u001b[0m\u001b[0;34m.\u001b[0m\u001b[0mdrop\u001b[0m\u001b[0;34m(\u001b[0m\u001b[0mlabels\u001b[0m\u001b[0;34m,\u001b[0m \u001b[0mlevel\u001b[0m\u001b[0;34m=\u001b[0m\u001b[0mlevel\u001b[0m\u001b[0;34m,\u001b[0m \u001b[0merrors\u001b[0m\u001b[0;34m=\u001b[0m\u001b[0merrors\u001b[0m\u001b[0;34m)\u001b[0m\u001b[0;34m\u001b[0m\u001b[0;34m\u001b[0m\u001b[0m\n\u001b[1;32m   3811\u001b[0m             \u001b[0;32melse\u001b[0m\u001b[0;34m:\u001b[0m\u001b[0;34m\u001b[0m\u001b[0;34m\u001b[0m\u001b[0m\n\u001b[0;32m-> 3812\u001b[0;31m                 \u001b[0mnew_axis\u001b[0m \u001b[0;34m=\u001b[0m \u001b[0maxis\u001b[0m\u001b[0;34m.\u001b[0m\u001b[0mdrop\u001b[0m\u001b[0;34m(\u001b[0m\u001b[0mlabels\u001b[0m\u001b[0;34m,\u001b[0m \u001b[0merrors\u001b[0m\u001b[0;34m=\u001b[0m\u001b[0merrors\u001b[0m\u001b[0;34m)\u001b[0m\u001b[0;34m\u001b[0m\u001b[0;34m\u001b[0m\u001b[0m\n\u001b[0m\u001b[1;32m   3813\u001b[0m             \u001b[0mresult\u001b[0m \u001b[0;34m=\u001b[0m \u001b[0mself\u001b[0m\u001b[0;34m.\u001b[0m\u001b[0mreindex\u001b[0m\u001b[0;34m(\u001b[0m\u001b[0;34m**\u001b[0m\u001b[0;34m{\u001b[0m\u001b[0maxis_name\u001b[0m\u001b[0;34m:\u001b[0m \u001b[0mnew_axis\u001b[0m\u001b[0;34m}\u001b[0m\u001b[0;34m)\u001b[0m\u001b[0;34m\u001b[0m\u001b[0;34m\u001b[0m\u001b[0m\n\u001b[1;32m   3814\u001b[0m \u001b[0;34m\u001b[0m\u001b[0m\n",
      "\u001b[0;32m~/anaconda3/lib/python3.7/site-packages/pandas/core/indexes/base.py\u001b[0m in \u001b[0;36mdrop\u001b[0;34m(self, labels, errors)\u001b[0m\n\u001b[1;32m   4963\u001b[0m             \u001b[0;32mif\u001b[0m \u001b[0merrors\u001b[0m \u001b[0;34m!=\u001b[0m \u001b[0;34m'ignore'\u001b[0m\u001b[0;34m:\u001b[0m\u001b[0;34m\u001b[0m\u001b[0;34m\u001b[0m\u001b[0m\n\u001b[1;32m   4964\u001b[0m                 raise KeyError(\n\u001b[0;32m-> 4965\u001b[0;31m                     '{} not found in axis'.format(labels[mask]))\n\u001b[0m\u001b[1;32m   4966\u001b[0m             \u001b[0mindexer\u001b[0m \u001b[0;34m=\u001b[0m \u001b[0mindexer\u001b[0m\u001b[0;34m[\u001b[0m\u001b[0;34m~\u001b[0m\u001b[0mmask\u001b[0m\u001b[0;34m]\u001b[0m\u001b[0;34m\u001b[0m\u001b[0;34m\u001b[0m\u001b[0m\n\u001b[1;32m   4967\u001b[0m         \u001b[0;32mreturn\u001b[0m \u001b[0mself\u001b[0m\u001b[0;34m.\u001b[0m\u001b[0mdelete\u001b[0m\u001b[0;34m(\u001b[0m\u001b[0mindexer\u001b[0m\u001b[0;34m)\u001b[0m\u001b[0;34m\u001b[0m\u001b[0;34m\u001b[0m\u001b[0m\n",
      "\u001b[0;31mKeyError\u001b[0m: \"['Advertising' 'Human Relations' 'Public Rleations'] not found in axis\""
     ]
    }
   ],
   "source": [
    "df_user_profile = df_user_profile.drop(columns=[\"Advertising\", \"Human Relations\", \"Public Rleations\"])    "
   ]
  },
  {
   "cell_type": "code",
   "execution_count": 398,
   "metadata": {},
   "outputs": [
    {
     "name": "stdout",
     "output_type": "stream",
     "text": [
      "Name\n",
      "Accounting\n",
      "Behavioral\n",
      "Business\n",
      "Communications\n",
      "Education\n",
      "Engineering\n",
      "Finance\n",
      "Health\n",
      "Human Resources\n",
      "Journalism\n",
      "Management\n",
      "Marketing\n",
      "Public Relations\n",
      "Technology\n",
      "Writing\n"
     ]
    }
   ],
   "source": [
    "for col in df_volunteer_profile.columns: \n",
    "    print(col) "
   ]
  },
  {
   "cell_type": "code",
   "execution_count": 399,
   "metadata": {},
   "outputs": [
    {
     "data": {
      "text/plain": [
       "(199, 16)"
      ]
     },
     "execution_count": 399,
     "metadata": {},
     "output_type": "execute_result"
    }
   ],
   "source": [
    "df_user_profile.shape"
   ]
  },
  {
   "cell_type": "code",
   "execution_count": 400,
   "metadata": {},
   "outputs": [],
   "source": [
    "df_volunteer_profile = df_volunteer_profile.dropna(subset=['Name'])"
   ]
  },
  {
   "cell_type": "code",
   "execution_count": 401,
   "metadata": {},
   "outputs": [],
   "source": [
    "X = df_volunteer_profile.drop('Name',1)\n",
    "Y = df_volunteer_profile['Name']\n",
    "\n",
    "from sklearn.model_selection import train_test_split\n",
    "\n",
    "X_train, X_test, Y_train, Y_test = train_test_split(X, Y, test_size=0.10, random_state=42)"
   ]
  },
  {
   "cell_type": "code",
   "execution_count": 402,
   "metadata": {},
   "outputs": [
    {
     "data": {
      "text/plain": [
       "KNeighborsClassifier(algorithm='auto', leaf_size=30, metric='cosine',\n",
       "           metric_params=None, n_jobs=None, n_neighbors=50, p=2,\n",
       "           weights='uniform')"
      ]
     },
     "execution_count": 402,
     "metadata": {},
     "output_type": "execute_result"
    }
   ],
   "source": [
    "from sklearn.neighbors import KNeighborsClassifier\n",
    "neigh = KNeighborsClassifier(n_neighbors=50, metric='cosine')\n",
    "neigh.fit(X_train, Y_train)"
   ]
  },
  {
   "cell_type": "code",
   "execution_count": 403,
   "metadata": {},
   "outputs": [
    {
     "name": "stdout",
     "output_type": "stream",
     "text": [
      "0.0\n"
     ]
    }
   ],
   "source": [
    "from sklearn import metrics\n",
    "Y_pred = neigh.predict(X_test)\n",
    "\n",
    "# compare actual response values (y_test) with predicted response values (y_pred)\n",
    "print(metrics.accuracy_score(Y_test, Y_pred))\n"
   ]
  },
  {
   "cell_type": "code",
   "execution_count": 404,
   "metadata": {},
   "outputs": [],
   "source": [
    "import pickle\n",
    "filename = 'knn.pickle'\n",
    "pickle.dump(neigh, open(filename, 'wb'))"
   ]
  },
  {
   "cell_type": "code",
   "execution_count": 408,
   "metadata": {},
   "outputs": [
    {
     "name": "stdout",
     "output_type": "stream",
     "text": [
      "[[ 24  41   3  64  97  42  69  67  47  86  65  20  90  18  91  73  55  59\n",
      "   62   4  98   7   5   9  60  95  61  14   8 100  75  88  99  89  92  93\n",
      "   94  96  85  63  74  58  72  71  70  68  80  66  87  79]]\n"
     ]
    }
   ],
   "source": [
    "data = df_user_profile.drop(columns=['Full Name']).iloc[0]\n",
    "loaded_model = pickle.load(open(filename, 'rb'))\n",
    "#result = loaded_model.predict([data])\n",
    "result = neigh.kneighbors([data])\n",
    "print(result[1])"
   ]
  },
  {
   "cell_type": "code",
   "execution_count": 411,
   "metadata": {},
   "outputs": [
    {
     "name": "stdout",
     "output_type": "stream",
     "text": [
      "24               Ram Nagarajan\n",
      "41              Chris Reynolds\n",
      "3            Suzette Sandoval \n",
      "64                 Jay Staples\n",
      "97                Monica Walls\n",
      "42               Lindley Huynh\n",
      "69                  Brad Mears\n",
      "67                   Noha Rizk\n",
      "47                 Chris Dedow\n",
      "86              Cesar Zaragoza\n",
      "65           Manickkam Pandian\n",
      "20                 Siddhi Shah\n",
      "90                  Peter Thai\n",
      "18                 Katie Upton\n",
      "91                Elliot Fiske\n",
      "73              Rasana Anandan\n",
      "55                Matt Sorlien\n",
      "59               Ike Backstrom\n",
      "62          Priya Balakrishnan\n",
      "4                 Dionne Gayle\n",
      "98          Sandra Escajadillo\n",
      "7             Charles Anderson\n",
      "5              Daman Ahluwalia\n",
      "9              Jessica Mederos\n",
      "60                 Julia David\n",
      "95                  Amna Qamar\n",
      "61          Sunethra Dhileepan\n",
      "14                   Lucy Ring\n",
      "8               Lauren Koehler\n",
      "100            Deborah Jiminez\n",
      "75                 Jing Osborn\n",
      "88     Seyedshahin Ashrafzadeh\n",
      "99          Sivakumar Murugesu\n",
      "89                   Anya Bida\n",
      "92                 Nydia Smith\n",
      "93                Linda Berger\n",
      "94               Chiara Dorigo\n",
      "96                 Dave Mayhan\n",
      "85                John Drexler\n",
      "63                Khush Sharma\n",
      "74              Sumitha Nathan\n",
      "58       Saravanan Chidambaram\n",
      "72              Mohan Sankaran\n",
      "71                    PJ Nuqui\n",
      "70                 Beat Hutter\n",
      "68             Cameron Redublo\n",
      "80                 Emily Rudge\n",
      "66                  Tarun Giri\n",
      "87                Audre Broers\n",
      "79                 Kerri Quinn\n",
      "Name: Name, dtype: object\n"
     ]
    }
   ],
   "source": [
    "for i in result[1]:\n",
    "    print(df_volunteer_profile.iloc[i]['Name'])"
   ]
  },
  {
   "cell_type": "code",
   "execution_count": 144,
   "metadata": {},
   "outputs": [
    {
     "name": "stdout",
     "output_type": "stream",
     "text": [
      "Name\n",
      "\n",
      " \n",
      " Accounting\n",
      " Business\n",
      " Communications\n",
      " Education\n",
      " Engineering\n",
      " English\n",
      " Finance\n",
      " Human Resources\n",
      " Management\n",
      " Marketing\n",
      " Public Relations\n",
      " Recruiting\n",
      " Technology\n",
      "Behavioral\n",
      "Business\n",
      "Education\n",
      "Engineering\n",
      "Finance\n",
      "Human Resources\n",
      "Management\n",
      "Marketing\n",
      "Non-profit\n",
      "Operations\n",
      "Public Relations\n",
      "Recruiting\n",
      "Sales\n",
      "Software Engineering\n",
      "Technology\n"
     ]
    }
   ],
   "source": [
    "for col in df_volunteer_profile.columns: \n",
    "    print(col) "
   ]
  },
  {
   "cell_type": "code",
   "execution_count": 145,
   "metadata": {},
   "outputs": [
    {
     "name": "stdout",
     "output_type": "stream",
     "text": [
      "Full Name\n",
      "\n",
      " Accounting\n",
      " Business\n",
      " Communications\n",
      " Education\n",
      " Engineering\n",
      " Finance\n",
      " Health\n",
      " Human Relations\n",
      " Human Resources\n",
      " Journalism\n",
      " Management\n",
      " Marketing\n",
      " Public Relations\n",
      " Technology\n",
      " Writing\n",
      "Accounting\n",
      "Advertising\n",
      "Behavioral\n",
      "Business\n",
      "Communications\n",
      "Education\n",
      "Engineering\n",
      "Finance\n",
      "Health\n",
      "Human Resources\n",
      "Management\n",
      "Marketing\n",
      "Public Relations\n",
      "Public Rleations\n",
      "Technology\n",
      "Writing\n"
     ]
    }
   ],
   "source": []
  },
  {
   "cell_type": "code",
   "execution_count": null,
   "metadata": {},
   "outputs": [],
   "source": []
  }
 ],
 "metadata": {
  "kernelspec": {
   "display_name": "Python 3",
   "language": "python",
   "name": "python3"
  },
  "language_info": {
   "codemirror_mode": {
    "name": "ipython",
    "version": 3
   },
   "file_extension": ".py",
   "mimetype": "text/x-python",
   "name": "python",
   "nbconvert_exporter": "python",
   "pygments_lexer": "ipython3",
   "version": "3.7.3"
  }
 },
 "nbformat": 4,
 "nbformat_minor": 2
}
