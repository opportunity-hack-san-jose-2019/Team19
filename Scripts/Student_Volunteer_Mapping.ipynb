{
 "cells": [
  {
   "cell_type": "code",
   "execution_count": 2,
   "metadata": {},
   "outputs": [],
   "source": [
    "import logging\n",
    "import logging.handlers\n",
    "import argparse\n",
    "import sys\n",
    "import time\n",
    "import sched\n",
    "import datetime\n",
    "import json\n",
    "import requests\n",
    "\n",
    "AWS_ACCESS_KEY = ''\n",
    "AWS_SECRET_ACCESS = ''\n",
    "MATCH_DATA_POST_URL = \"https://.....amazonaws.com/api/...\"\n",
    "STUDENT_EVENT_URL = \"https://.....amazonaws.com/api/...\"\n",
    "#STUDENT_INFO_URL = \"https://.....amazonaws.com/api/...\"\n",
    "VOLUNTEER_EVENT_URL = \"https://.....amazonaws.com/api/...\"\n",
    "#VOLUNTEER_INFO_URL = \"https://.....amazonaws.com/api/...\"\n",
    "RECOMMENDER_POST_URL = \"https://.....amazonaws.com/api/...\"\n",
    "RECOMMENDER_GET_URL = \"https://.....amazonaws.com/api/...\""
   ]
  },
  {
   "cell_type": "code",
   "execution_count": null,
   "metadata": {},
   "outputs": [],
   "source": [
    "student_event_info = requests.get(STUDENT_EVENT_URL)\n",
    "#student_info = requests.get(STUDENT_INFO_URL)\n",
    "volunteer_event_info = requests.get(VOLUNTEER_EVENT_URL)\n",
    "#volunteer_info = requests.get(VOLUNTEER_INFO_URL)"
   ]
  },
  {
   "cell_type": "code",
   "execution_count": null,
   "metadata": {},
   "outputs": [],
   "source": [
    "student_event_info = student_event_info.json()\n",
    "#student_info = student_info.json()\n",
    "volunteer_event_info = volunteer_event_info.json()\n",
    "#volunteer_info = volunteer_info.json()\n",
    "\n",
    "for event in student_event_info:\n",
    "    payload = payload.update({'Student_Name': event['Full Name'],\n",
    "                              'data' : event['Career_Interests']})\n",
    "    Payload=json.dumps(payload)\n",
    "    resp = requests.post(RECOMMENDER_POST_URL, json=payload, verify=False)\n",
    "    print(resp.status_code)\n",
    "    print(resp.json())\n",
    "    \n",
    "    MATCH_DATA_GET_URL = \"https://.....amazonaws.com/api/...\"+{event['eventId']}\n",
    "    match_data_info = requests.get(MATCH_DATA_GET_URL)\n",
    "    volunteer_mapping_info = requests.get(VOLUNTEER_MAPPING_INFO)\n",
    "    j = 0\n",
    "    if volunteer_mapping_info[j] in match_data_info['Volunteer_Id']:\n",
    "        j += 1;\n",
    "    else :\n",
    "        payload = payload.update({'EventId': event['eventId'],\n",
    "                                'Student_Id': event['Student_Id'],\n",
    "                                'Volunteer_Id' : volunteer_mapping_info[j]})\n",
    "        Payload=json.dumps(payload)\n",
    "        confirm_mapping = requests.post(MATCH_DATA_POST_URL, json=payload, verify=False)\n",
    "    \n",
    "    \n",
    "    \n",
    "    \n",
    "    \n",
    "\n",
    "    "
   ]
  }
 ],
 "metadata": {
  "kernelspec": {
   "display_name": "Python 3",
   "language": "python",
   "name": "python3"
  },
  "language_info": {
   "codemirror_mode": {
    "name": "ipython",
    "version": 3
   },
   "file_extension": ".py",
   "mimetype": "text/x-python",
   "name": "python",
   "nbconvert_exporter": "python",
   "pygments_lexer": "ipython3",
   "version": "3.7.2"
  }
 },
 "nbformat": 4,
 "nbformat_minor": 2
}
